{
  "nbformat": 4,
  "nbformat_minor": 0,
  "metadata": {
    "colab": {
      "provenance": []
    },
    "kernelspec": {
      "name": "python3",
      "display_name": "Python 3"
    },
    "language_info": {
      "name": "python"
    }
  },
  "cells": [
    {
      "cell_type": "markdown",
      "source": [
        "# **1. Import Library**"
      ],
      "metadata": {
        "id": "fKADPWcFKlj3"
      }
    },
    {
      "cell_type": "markdown",
      "source": [
        "Pada tahap ini, Anda perlu mengimpor beberapa pustaka (library) Python yang dibutuhkan untuk analisis data dan pembangunan model machine learning."
      ],
      "metadata": {
        "id": "LgA3ERnVn84N"
      }
    },
    {
      "cell_type": "code",
      "source": [
        "# Import library yang dibutuhkan\n",
        "import pandas as pd\n",
        "import numpy as np\n",
        "from sklearn.model_selection import train_test_split\n",
        "from sklearn.preprocessing import StandardScaler, LabelEncoder\n",
        "from sklearn.ensemble import RandomForestClassifier\n",
        "from sklearn.linear_model import LogisticRegression\n",
        "from sklearn.metrics import accuracy_score, f1_score, confusion_matrix, classification_report\n",
        "from sklearn.model_selection import GridSearchCV\n",
        "import joblib"
      ],
      "metadata": {
        "id": "BlmvjLY9M4Yj"
      },
      "execution_count": 1,
      "outputs": []
    },
    {
      "cell_type": "markdown",
      "source": [
        "# **2. Memuat Dataset dari Hasil Clustering**"
      ],
      "metadata": {
        "id": "f3YIEnAFKrKL"
      }
    },
    {
      "cell_type": "markdown",
      "source": [
        "Memuat dataset hasil clustering dari file CSV ke dalam variabel DataFrame."
      ],
      "metadata": {
        "id": "Ey3ItwTen_7E"
      }
    },
    {
      "cell_type": "code",
      "source": [
        "# Memuat dataset hasil clustering\n",
        "file_path = '/content/Dataset_clustering.csv'  # Ganti path sesuai lokasi file di Colab\n",
        "data = pd.read_csv(file_path)\n",
        "print(\"Dataset berhasil dimuat!\")\n",
        "print(data.head())"
      ],
      "metadata": {
        "id": "GHCGNTyrM5fS",
        "colab": {
          "base_uri": "https://localhost:8080/"
        },
        "outputId": "44f4c998-55f9-4071-81aa-a5f9472c60e0"
      },
      "execution_count": 2,
      "outputs": [
        {
          "output_type": "stream",
          "name": "stdout",
          "text": [
            "Dataset berhasil dimuat!\n",
            "                                   nama_variabel nama_variabel_turunan  \\\n",
            "0  Tingkat Pengangguran Terbuka Menurut Provinsi             Tidak Ada   \n",
            "1  Tingkat Pengangguran Terbuka Menurut Provinsi             Tidak Ada   \n",
            "2  Tingkat Pengangguran Terbuka Menurut Provinsi             Tidak Ada   \n",
            "3  Tingkat Pengangguran Terbuka Menurut Provinsi             Tidak Ada   \n",
            "4  Tingkat Pengangguran Terbuka Menurut Provinsi             Tidak Ada   \n",
            "\n",
            "   nama_tahun nama_turunan_tahun  data_content nama_item_vertical_variabel  \\\n",
            "0        2023           Februari          5.75                        ACEH   \n",
            "1        2023           Februari          5.24              SUMATERA UTARA   \n",
            "2        2023           Februari          5.90              SUMATERA BARAT   \n",
            "3        2023           Februari          4.25                        RIAU   \n",
            "4        2023           Februari          4.50                       JAMBI   \n",
            "\n",
            "   data_content_scaled content_category  Cluster  \n",
            "0            -1.170316              Low        2  \n",
            "1            -1.183828              Low        2  \n",
            "2            -1.166342              Low        2  \n",
            "3            -1.210057              Low        2  \n",
            "4            -1.203434              Low        2  \n"
          ]
        }
      ]
    },
    {
      "cell_type": "markdown",
      "source": [
        "# **3. Data Splitting**"
      ],
      "metadata": {
        "id": "KkPem5eWL2UP"
      }
    },
    {
      "cell_type": "markdown",
      "source": [
        "Tahap Data Splitting bertujuan untuk memisahkan dataset menjadi dua bagian: data latih (training set) dan data uji (test set)."
      ],
      "metadata": {
        "id": "YYj1rl_JNI9Y"
      }
    },
    {
      "cell_type": "code",
      "source": [
        "# Preprocessing Data\n",
        "# Encode kolom kategorikal\n",
        "categorical_columns = ['nama_variabel', 'nama_variabel_turunan', 'nama_turunan_tahun',\n",
        "                       'nama_item_vertical_variabel', 'content_category']\n",
        "encoder = LabelEncoder()\n",
        "for col in categorical_columns:\n",
        "    data[col] = encoder.fit_transform(data[col])\n",
        "\n",
        "# Memilih fitur dan label\n",
        "features = ['data_content', 'data_content_scaled', 'nama_tahun'] + categorical_columns\n",
        "X = data[features]\n",
        "y = data['Cluster']\n",
        "\n",
        "# Standarisasi data\n",
        "scaler = StandardScaler()\n",
        "X_scaled = scaler.fit_transform(X)\n",
        "\n",
        "# Membagi data menjadi data latih dan data uji\n",
        "X_train, X_test, y_train, y_test = train_test_split(X_scaled, y, test_size=0.2, random_state=42)\n",
        "\n",
        "# Tampilkan bentuk data\n",
        "print(\"Shape of X_train:\", X_train.shape)\n",
        "print(\"Shape of X_test:\", X_test.shape)"
      ],
      "metadata": {
        "id": "OubAW-7ONKVj",
        "colab": {
          "base_uri": "https://localhost:8080/"
        },
        "outputId": "b56ebfac-0634-4ce0-e516-ac7a03da2be0"
      },
      "execution_count": 3,
      "outputs": [
        {
          "output_type": "stream",
          "name": "stdout",
          "text": [
            "Shape of X_train: (1148, 8)\n",
            "Shape of X_test: (287, 8)\n"
          ]
        }
      ]
    },
    {
      "cell_type": "markdown",
      "source": [
        "# **4. Membangun Model Klasifikasi**\n"
      ],
      "metadata": {
        "id": "IVPbB03CMhTT"
      }
    },
    {
      "cell_type": "markdown",
      "source": [
        "## **a. Membangun Model Klasifikasi**"
      ],
      "metadata": {
        "id": "Ned1pL9zMmBK"
      }
    },
    {
      "cell_type": "markdown",
      "source": [
        "Setelah memilih algoritma klasifikasi yang sesuai, langkah selanjutnya adalah melatih model menggunakan data latih.\n",
        "\n",
        "Berikut adalah rekomendasi tahapannya.\n",
        "1. Pilih algoritma klasifikasi yang sesuai, seperti Logistic Regression, Decision Tree, Random Forest, atau K-Nearest Neighbors (KNN).\n",
        "2. Latih model menggunakan data latih."
      ],
      "metadata": {
        "id": "WAWzPOE4Nkti"
      }
    },
    {
      "cell_type": "code",
      "source": [
        "# Model 1: Random Forest\n",
        "rf_model = RandomForestClassifier(random_state=42)\n",
        "rf_model.fit(X_train, y_train)\n",
        "y_pred_rf = rf_model.predict(X_test)\n",
        "\n",
        "# Model 2: Logistic Regression\n",
        "lr_model = LogisticRegression(random_state=42, max_iter=1000)\n",
        "lr_model.fit(X_train, y_train)\n",
        "y_pred_lr = lr_model.predict(X_test)"
      ],
      "metadata": {
        "id": "4JYxBe87NLDk"
      },
      "execution_count": 4,
      "outputs": []
    },
    {
      "cell_type": "markdown",
      "source": [
        "Tulis narasi atau penjelasan algoritma yang Anda gunakan."
      ],
      "metadata": {
        "id": "seYoHNY3XU1y"
      }
    },
    {
      "cell_type": "markdown",
      "source": [
        "## **b. Evaluasi Model Klasifikasi**"
      ],
      "metadata": {
        "id": "ergzChZFEL-O"
      }
    },
    {
      "cell_type": "markdown",
      "source": [
        "Berikut adalah **rekomendasi** tahapannya.\n",
        "1. Lakukan prediksi menggunakan data uji.\n",
        "2. Hitung metrik evaluasi seperti Accuracy dan F1-Score (Opsional: Precision dan Recall).\n",
        "3. Buat confusion matrix untuk melihat detail prediksi benar dan salah."
      ],
      "metadata": {
        "id": "zOm68u-7NpLT"
      }
    },
    {
      "cell_type": "code",
      "source": [
        "# Evaluasi Random Forest\n",
        "print(\"Random Forest - Accuracy:\", accuracy_score(y_test, y_pred_rf))\n",
        "print(\"Random Forest - F1 Score:\", f1_score(y_test, y_pred_rf, average='weighted'))\n",
        "\n",
        "# Evaluasi Logistic Regression\n",
        "print(\"Logistic Regression - Accuracy:\", accuracy_score(y_test, y_pred_lr))\n",
        "print(\"Logistic Regression - F1 Score:\", f1_score(y_test, y_pred_lr, average='weighted'))"
      ],
      "metadata": {
        "id": "tMq4QAssNLip",
        "colab": {
          "base_uri": "https://localhost:8080/"
        },
        "outputId": "6a57b577-29e5-4862-aa77-62c9e09d765f"
      },
      "execution_count": 5,
      "outputs": [
        {
          "output_type": "stream",
          "name": "stdout",
          "text": [
            "Random Forest - Accuracy: 1.0\n",
            "Random Forest - F1 Score: 1.0\n",
            "Logistic Regression - Accuracy: 0.9825783972125436\n",
            "Logistic Regression - F1 Score: 0.9826478109690765\n"
          ]
        }
      ]
    },
    {
      "cell_type": "markdown",
      "source": [
        "Tulis hasil evaluasi algoritma yang digunakan, jika Anda menggunakan 2 algoritma, maka bandingkan hasilnya."
      ],
      "metadata": {
        "id": "H4_9OwrsXZlz"
      }
    },
    {
      "cell_type": "markdown",
      "source": [
        "## **c. Tuning Model Klasifikasi (Optional)**"
      ],
      "metadata": {
        "id": "ph9yIYDXEPuB"
      }
    },
    {
      "cell_type": "markdown",
      "source": [
        "Gunakan GridSearchCV, RandomizedSearchCV, atau metode lainnya untuk mencari kombinasi hyperparameter terbaik"
      ],
      "metadata": {
        "id": "-Bikx3LINv5e"
      }
    },
    {
      "cell_type": "code",
      "source": [
        "# Hyperparameter tuning untuk Random Forest\n",
        "param_grid_rf = {\n",
        "    'n_estimators': [100, 200],\n",
        "    'max_depth': [None, 10, 20],\n",
        "    'min_samples_split': [2, 5]\n",
        "}\n",
        "grid_rf = GridSearchCV(RandomForestClassifier(random_state=42), param_grid_rf, cv=3, scoring='f1_weighted')\n",
        "grid_rf.fit(X_train, y_train)\n",
        "print(\"Best parameters for Random Forest:\", grid_rf.best_params_)"
      ],
      "metadata": {
        "id": "winbFzb8NL95",
        "colab": {
          "base_uri": "https://localhost:8080/"
        },
        "outputId": "9420170b-79d1-4659-f2f5-c5df1fa7a989"
      },
      "execution_count": 6,
      "outputs": [
        {
          "output_type": "stream",
          "name": "stdout",
          "text": [
            "Best parameters for Random Forest: {'max_depth': None, 'min_samples_split': 2, 'n_estimators': 100}\n"
          ]
        }
      ]
    },
    {
      "cell_type": "markdown",
      "source": [
        "## **d. Evaluasi Model Klasifikasi setelah Tuning (Optional)**"
      ],
      "metadata": {
        "id": "hE7pqlEPEYzI"
      }
    },
    {
      "cell_type": "markdown",
      "source": [
        "Berikut adalah rekomendasi tahapannya.\n",
        "1. Gunakan model dengan hyperparameter terbaik.\n",
        "2. Hitung ulang metrik evaluasi untuk melihat apakah ada peningkatan performa."
      ],
      "metadata": {
        "id": "feaPESoeN0zz"
      }
    },
    {
      "cell_type": "code",
      "source": [
        "# Menggunakan model terbaik dari GridSearchCV\n",
        "best_rf_model = grid_rf.best_estimator_\n",
        "y_pred_best_rf = best_rf_model.predict(X_test)\n",
        "\n",
        "# Evaluasi ulang model Random Forest\n",
        "print(\"Tuned Random Forest - Accuracy:\", accuracy_score(y_test, y_pred_best_rf))\n",
        "print(\"Tuned Random Forest - F1 Score:\", f1_score(y_test, y_pred_best_rf, average='weighted'))"
      ],
      "metadata": {
        "id": "HTXZRvEeNMb1",
        "colab": {
          "base_uri": "https://localhost:8080/"
        },
        "outputId": "12351f56-8b51-4c0e-ef3d-1e47f1a14ef3"
      },
      "execution_count": 7,
      "outputs": [
        {
          "output_type": "stream",
          "name": "stdout",
          "text": [
            "Tuned Random Forest - Accuracy: 1.0\n",
            "Tuned Random Forest - F1 Score: 1.0\n"
          ]
        }
      ]
    },
    {
      "cell_type": "markdown",
      "source": [
        "## **e. Analisis Hasil Evaluasi Model Klasifikasi**"
      ],
      "metadata": {
        "id": "ZRsOdm4uEgAW"
      }
    },
    {
      "cell_type": "code",
      "source": [
        "# Confusion Matrix dan Classification Report untuk kedua model\n",
        "print(\"\\nConfusion Matrix - Random Forest\")\n",
        "print(confusion_matrix(y_test, y_pred_rf))\n",
        "print(\"\\nConfusion Matrix - Logistic Regression\")\n",
        "print(confusion_matrix(y_test, y_pred_lr))\n",
        "\n",
        "# Analisis hasil dengan Classification Report\n",
        "print(\"\\nClassification Report - Random Forest\")\n",
        "print(classification_report(y_test, y_pred_rf))\n",
        "\n",
        "print(\"\\nClassification Report - Logistic Regression\")\n",
        "print(classification_report(y_test, y_pred_lr))\n"
      ],
      "metadata": {
        "colab": {
          "base_uri": "https://localhost:8080/"
        },
        "id": "bkBdqcI18FLP",
        "outputId": "c9713257-d5a7-41e1-f353-5c56e14b64d2"
      },
      "execution_count": 8,
      "outputs": [
        {
          "output_type": "stream",
          "name": "stdout",
          "text": [
            "\n",
            "Confusion Matrix - Random Forest\n",
            "[[ 56   0   0]\n",
            " [  0 115   0]\n",
            " [  0   0 116]]\n",
            "\n",
            "Confusion Matrix - Logistic Regression\n",
            "[[ 54   2   0]\n",
            " [  1 114   0]\n",
            " [  2   0 114]]\n",
            "\n",
            "Classification Report - Random Forest\n",
            "              precision    recall  f1-score   support\n",
            "\n",
            "           0       1.00      1.00      1.00        56\n",
            "           1       1.00      1.00      1.00       115\n",
            "           2       1.00      1.00      1.00       116\n",
            "\n",
            "    accuracy                           1.00       287\n",
            "   macro avg       1.00      1.00      1.00       287\n",
            "weighted avg       1.00      1.00      1.00       287\n",
            "\n",
            "\n",
            "Classification Report - Logistic Regression\n",
            "              precision    recall  f1-score   support\n",
            "\n",
            "           0       0.95      0.96      0.96        56\n",
            "           1       0.98      0.99      0.99       115\n",
            "           2       1.00      0.98      0.99       116\n",
            "\n",
            "    accuracy                           0.98       287\n",
            "   macro avg       0.98      0.98      0.98       287\n",
            "weighted avg       0.98      0.98      0.98       287\n",
            "\n"
          ]
        }
      ]
    },
    {
      "cell_type": "markdown",
      "source": [
        "Berikut adalah **rekomendasi** tahapannya.\n",
        "1. Perbandingan Hasil Evaluasi Sebelum dan Sesudah Tuning\n",
        "\n",
        "Sebelum dilakukan tuning, model Random Forest sudah menunjukkan performa yang sangat baik dengan akurasi dan F1-Score mencapai 100%. Setelah tuning, hasil yang diperoleh tetap sama, sehingga tidak ada peningkatan yang signifikan. Sementara itu, Logistic Regression juga menunjukkan kinerja yang tinggi dengan akurasi dan F1-Score sekitar 98.26%.\n",
        "\n",
        "2. Identifikasi Kelemahan Model\n",
        "\t* Precision atau Recall Rendah pada Kelas Tertentu:\n",
        "Tidak ditemukan kendala terkait precision atau recall yang rendah. Model Random Forest memberikan hasil sempurna untuk semua kelas, sedangkan Logistic Regression memiliki sedikit kesalahan yang tidak terlalu berdampak besar.\n",
        "\t* Overfitting atau Underfitting:\n",
        "Random Forest kemungkinan mengalami overfitting, terutama jika dataset yang digunakan relatif kecil, karena model memberikan hasil yang sempurna. Sebaliknya, Logistic Regression tampak lebih stabil dan mampu melakukan generalisasi dengan baik.\n",
        "\n",
        "3. Rekomendasi untuk Langkah Selanjutnya\n",
        "\t* Untuk mengurangi potensi overfitting pada Random Forest, dapat dilakukan pembatasan kedalaman pohon atau menambahkan lebih banyak data.\n",
        "\t*\tLogistic Regression dapat ditingkatkan dengan menambahkan fitur tambahan atau mencoba algoritma lain seperti Gradient Boosting jika diperlukan.\n",
        "\t*\tJika dataset yang digunakan masih terbatas, disarankan untuk mengumpulkan lebih banyak data guna meningkatkan kemampuan model dalam melakukan generalisasi.\n",
        "\n"
      ],
      "metadata": {
        "id": "Hm3BhSi6N4_l"
      }
    }
  ]
}